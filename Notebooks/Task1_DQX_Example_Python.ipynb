{
 "cells": [
  {
   "cell_type": "markdown",
   "metadata": {
    "application/vnd.databricks.v1+cell": {
     "cellMetadata": {},
     "inputWidgets": {},
     "nuid": "aaee2ab0-edb1-428d-8f0c-afdcbfec3356",
     "showTitle": false,
     "tableResultSettingsMap": {},
     "title": ""
    }
   },
   "source": [
    "Example for Databricks-embedded Data Quality Framework DQX"
   ]
  },
  {
   "cell_type": "code",
   "execution_count": 0,
   "metadata": {
    "application/vnd.databricks.v1+cell": {
     "cellMetadata": {},
     "inputWidgets": {},
     "nuid": "82b6145d-8beb-47d9-b4ca-450e606dcc06",
     "showTitle": false,
     "tableResultSettingsMap": {},
     "title": ""
    }
   },
   "outputs": [],
   "source": [
    "%python\n",
    "import yaml \n",
    "from databricks.labs.dqx import check_funcs\n",
    "\n",
    "from databricks.labs.dqx.config import InputConfig, OutputConfig\n",
    "from databricks.labs.dqx.engine import DQEngine\n",
    "from databricks.labs.dqx.rule import DQRowRule\n",
    "\n",
    "checks = yaml.safe_load(\"\"\"\n",
    "- name: trip_distance_positive\n",
    "  criticality: error\n",
    "  check:\n",
    "    function: sql_expression\n",
    "    arguments:\n",
    "      expression: \"trip_distance > 0\"\n",
    "\n",
    "- name: passenger_count_valid\n",
    "  criticality: error\n",
    "  check:\n",
    "    function: sql_expression\n",
    "    arguments:\n",
    "      expression: \"passenger_count >= 1 and passenger_count <= 6\"\n",
    "\n",
    "- name: payment_type_allowed\n",
    "  criticality: error\n",
    "  check:\n",
    "    function: is_in_list\n",
    "    arguments:\n",
    "      column: payment_type\n",
    "      allowed:\n",
    "        - 1\n",
    "        - 2\n",
    "        - 3\n",
    "        - 4\n",
    "        - 5\n",
    "\"\"\")\n",
    "\n",
    "\n",
    "from databricks.sdk import WorkspaceClient\n",
    "\n",
    "# Initialize DQEngine\n",
    "dq_engine = DQEngine(WorkspaceClient())\n",
    "status = DQEngine.validate_checks(checks)\n",
    "print(status)\n",
    "\n",
    "\n",
    "# Apply checks in-memory\n",
    "valid_df, invalid_df = dq_engine.apply_checks_and_split(df_month, checks)\n"
   ]
  }
 ],
 "metadata": {
  "application/vnd.databricks.v1+notebook": {
   "computePreferences": null,
   "dashboards": [],
   "environmentMetadata": {
    "base_environment": "",
    "environment_version": "3"
   },
   "inputWidgetPreferences": null,
   "language": "scala",
   "notebookMetadata": {
    "pythonIndentUnit": 4
   },
   "notebookName": "Task1_DQX_Example_Python",
   "widgets": {}
  },
  "language_info": {
   "name": "scala"
  }
 },
 "nbformat": 4,
 "nbformat_minor": 0
}
