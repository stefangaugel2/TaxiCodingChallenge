{
 "cells": [
  {
   "cell_type": "code",
   "execution_count": 0,
   "metadata": {
    "application/vnd.databricks.v1+cell": {
     "cellMetadata": {},
     "inputWidgets": {},
     "nuid": "52daf41b-7483-40bd-a9ba-470dd18b8ae9",
     "showTitle": false,
     "tableResultSettingsMap": {},
     "title": ""
    }
   },
   "outputs": [],
   "source": [
    "\n",
    "// Databricks notebook: Get all jobs finished in the last 30 minutes (Scala)\n",
    "import scala.util.parsing.json._\n",
    "import scala.io.Source\n",
    "import java.time.Instant\n",
    "import java.time.ZoneId\n",
    "import java.time.format.DateTimeFormatter\n",
    "import java.net.HttpURLConnection\n",
    "import java.net.URL\n",
    "\n",
    "// CONFIG: update these\n",
    "val DATABRICKS_INSTANCE = \"https://adb-1042629664363467.7.azuredatabricks.net\"\n",
    "val TOKEN = dbutils.secrets.get(scope=\"taxi-scope\", key=\"key\")\n",
    "\n",
    "val HEADERS = Map(\n",
    "  \"Authorization\" -> s\"Bearer $TOKEN\",\n",
    "  \"Content-Type\" -> \"application/json\"\n",
    ")\n",
    "\n",
    "// TIME RANGE: last 30 minutes\n",
    "val nowMillis = System.currentTimeMillis()\n",
    "val thirtyMinutesAgoMillis = nowMillis - 72*60*60*1000\n",
    "\n",
    "// API CALL: list job runs\n",
    "val url = new URL(s\"$DATABRICKS_INSTANCE/api/2.1/jobs/runs/list\")\n",
    "val conn = url.openConnection().asInstanceOf[HttpURLConnection]\n",
    "conn.setRequestMethod(\"GET\")\n",
    "HEADERS.foreach { case (k,v) => conn.setRequestProperty(k,v) }\n",
    "\n",
    "val response = {\n",
    "  val inputStream = if (conn.getResponseCode < 400) conn.getInputStream else conn.getErrorStream\n",
    "  Source.fromInputStream(inputStream).mkString\n",
    "}\n",
    "\n",
    "// PARSE JSON\n",
    "val data = JSON.parseFull(response).get.asInstanceOf[Map[String, Any]]\n",
    "val runs = data.getOrElse(\"runs\", List.empty).asInstanceOf[List[Map[String, Any]]]\n",
    "\n",
    "// FILTER: runs finished in last 30 minutes\n",
    "val recentRuns = runs.filter { run =>\n",
    "  val endTime = run.getOrElse(\"end_time\", 0.0).asInstanceOf[Double].toLong\n",
    "  endTime >= thirtyMinutesAgoMillis && endTime <= nowMillis\n",
    "}\n",
    "\n",
    "// OUTPUT\n",
    "val formatter = DateTimeFormatter.ofPattern(\"yyyy-MM-dd HH:mm:ss\").withZone(ZoneId.systemDefault())\n",
    "\n",
    "if (recentRuns.nonEmpty) {\n",
    "  println(s\"Found ${recentRuns.size} job runs finished in the last 30 minutes:\\n\")\n",
    "  recentRuns.foreach { run =>\n",
    "    val jobId = run.getOrElse(\"job_id\", \"N/A\")\n",
    "    val runId = run.getOrElse(\"run_id\", \"N/A\")\n",
    "    val endTime = formatter.format(Instant.ofEpochMilli(run.getOrElse(\"end_time\", 0.0).asInstanceOf[Double].toLong))\n",
    "    val state = run.get(\"state\").flatMap(_.asInstanceOf[Map[String, Any]].get(\"result_state\")).getOrElse(\"N/A\")\n",
    "    println(s\"Job ID: $jobId, Run ID: $runId, Finished: $endTime, State: $state\")\n",
    "  }\n",
    "} else {\n",
    "  println(\"No jobs finished in the last 30 minutes.\")\n",
    "}\n",
    "\n"
   ]
  }
 ],
 "metadata": {
  "application/vnd.databricks.v1+notebook": {
   "computePreferences": null,
   "dashboards": [],
   "environmentMetadata": {
    "base_environment": "",
    "environment_version": "3"
   },
   "inputWidgetPreferences": null,
   "language": "scala",
   "notebookMetadata": {},
   "notebookName": "Task3_JobLogMonitoringExample",
   "widgets": {}
  },
  "language_info": {
   "name": "scala"
  }
 },
 "nbformat": 4,
 "nbformat_minor": 0
}
