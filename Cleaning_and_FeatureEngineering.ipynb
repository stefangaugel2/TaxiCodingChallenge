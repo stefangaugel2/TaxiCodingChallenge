{
 "cells": [
  {
   "cell_type": "code",
   "execution_count": 0,
   "metadata": {
    "application/vnd.databricks.v1+cell": {
     "cellMetadata": {
      "byteLimit": 2048000,
      "rowLimit": 10000
     },
     "inputWidgets": {},
     "nuid": "8c8d9d24-3238-4868-8423-0800516b95e2",
     "showTitle": false,
     "tableResultSettingsMap": {},
     "title": ""
    }
   },
   "outputs": [],
   "source": [
    "%scala\n",
    "import org.apache.spark.sql.functions._\n",
    "import org.apache.spark.sql.DataFrame\n",
    "\n",
    "// ===============================\n",
    "// PARAMETERS\n",
    "// ===============================\n",
    "// Example usage in Databricks job: \n",
    "\n",
    "val inputPeriods = dbutils.widgets.get(\"periods\").split(\",\").map(_.trim).toList\n",
    "val skipCleaning = dbutils.widgets.get(\"skip_cleaning\").toBoolean\n",
    "\n",
    "val featureTable = \"silver_layer_yellow_taxi_including_features\"\n",
    "\n",
    "// ===============================\n",
    "// HELPER FUNCTIONS\n",
    "// ===============================\n",
    "def loadBronze(period: String): DataFrame = {\n",
    "  val tyear  = period.substring(0,4)\n",
    "  val tmonth = period.substring(5,6)\n",
    "  val tableName = s\"hive_metastore.default.bronze_layer_${tyear}_${tmonth}_yellow_taxi_valid\"\n",
    "  spark.table(tableName)\n",
    "}\n",
    "\n",
    "\n",
    "\n",
    "def removeOutliers(df: DataFrame, colName: String): DataFrame = {\n",
    "  val quantiles = df.stat.approxQuantile(colName, Array(0.25, 0.75), 0.01)\n",
    "  val Q1 = quantiles(0); val Q3 = quantiles(1); val IQR = Q3 - Q1\n",
    "  df.filter(col(colName).between(Q1 - 1.5*IQR, Q3 + 1.5*IQR))\n",
    "}\n",
    "\n",
    "// ===============================\n",
    "// STEP 0: INGESTION\n",
    "// ===============================\n",
    "val rawDF = inputPeriods.map(loadBronze).reduce(_ unionByName _)\n",
    "\n",
    "rawDF.show(5)\n",
    "\n",
    "\n",
    "// ===============================\n",
    "// STEP 1: DATA CLEANING (optional)\n",
    "// ===============================\n",
    "val processedDF: DataFrame = if (!skipCleaning) {\n",
    "  // Deduplicate by key trip identifiers\n",
    "  val dedupedDF = rawDF.dropDuplicates(\n",
    "    \"VendorID\",\"tpep_pickup_datetime\",\"tpep_dropoff_datetime\",\"passenger_count\",\"PULocationID\",\"DOLocationID\"\n",
    "  )\n",
    "\n",
    "  // Basic validity filters\n",
    "  val cleanedDF = dedupedDF\n",
    "    .filter(col(\"fare_amount\") >= 0)\n",
    "    .filter(col(\"trip_distance\") >= 0)\n",
    "    .filter(col(\"passenger_count\") > 0)\n",
    "    .filter(col(\"total_amount\") >= 0)\n",
    "\n",
    "  // Drop rows missing critical fields\n",
    "  val noNullDF = cleanedDF.na.drop(\n",
    "    Seq(\"tpep_pickup_datetime\",\"tpep_dropoff_datetime\",\"fare_amount\",\"trip_distance\",\"total_amount\")\n",
    "  )\n",
    "\n",
    "  // Outlier removal (trip_distance and fare_amount)\n",
    "  val finalCleanDF = removeOutliers(\n",
    "    removeOutliers(noNullDF, \"trip_distance\"),\n",
    "    \"fare_amount\"\n",
    "  )\n",
    "\n",
    "  println(s\"✅ Data Cleaning complete. Records after cleaning: \" + finalCleanDF.count())\n",
    "  finalCleanDF\n",
    "} else {\n",
    "  println(s\"⏩ Skipping Data Cleaning. Using raw ingested data.\")\n",
    "  rawDF\n",
    "}\n",
    "\n",
    "// ===============================\n",
    "// STEP 2: FEATURE ENGINEERING\n",
    "// ===============================\n",
    "val feDF = processedDF\n",
    "  // Trip duration in minutes\n",
    "  .withColumn(\n",
    "    \"trip_duration_min\", \n",
    "    (unix_timestamp(col(\"tpep_dropoff_datetime\")) - unix_timestamp(col(\"tpep_pickup_datetime\"))) / 60.0\n",
    "  )\n",
    "  // Temporal features\n",
    "  .withColumn(\"pickup_hour\", hour(col(\"tpep_pickup_datetime\")))\n",
    "  .withColumn(\"pickup_dayofweek\", date_format(col(\"tpep_pickup_datetime\"), \"E\"))\n",
    "  .withColumn(\"pickup_month\", month(col(\"tpep_pickup_datetime\")))\n",
    "  // Efficiency metrics\n",
    "  .withColumn(\"fare_per_mile\", when(col(\"trip_distance\") > 0, col(\"fare_amount\")/col(\"trip_distance\")))\n",
    "  .withColumn(\"fare_per_min\", when(col(\"trip_duration_min\") > 0, col(\"fare_amount\")/col(\"trip_duration_min\")))\n",
    "  // Optional: revenue components\n",
    "  .withColumn(\"has_tip\", when(col(\"tip_amount\") > 0, 1).otherwise(0))\n",
    "  .withColumn(\"is_airport_trip\", when(col(\"airport_fee\") > 0, 1).otherwise(0))\n",
    "\n",
    "\n",
    "// ===============================\n",
    "// SAVE FINAL FEATURED DATA\n",
    "// ===============================\n",
    "feDF.write\n",
    "  .mode(\"overwrite\")\n",
    "  .format(\"delta\")\n",
    "  .saveAsTable(featureTable)\n",
    "\n",
    "println(s\"Feature Engineering complete. Output table: ${featureTable}\")\n",
    "\n",
    "///val featureTableName = \"featured_customers\"\n",
    "\n",
    "///fs.createFeatureTable(\n",
    "///  name = featureTableName,\n",
    "///  primaryKeys = Seq(\"id\"),      // The unique key(s) for your features\n",
    "///  df = feDF,                     // The DataFrame with features\n",
    "///  description = \"Customer features for ML models\"\n",
    "///)\n"
   ]
  },
  {
   "cell_type": "code",
   "execution_count": 0,
   "metadata": {
    "application/vnd.databricks.v1+cell": {
     "cellMetadata": {
      "byteLimit": 2048000,
      "rowLimit": 10000
     },
     "inputWidgets": {},
     "nuid": "b69e5ca9-b1e6-4591-a72b-a99c95a5ab9a",
     "showTitle": false,
     "tableResultSettingsMap": {},
     "title": ""
    }
   },
   "outputs": [],
   "source": [
    "%scala\n",
    "// ===============================\n",
    "// Feature Statistics\n",
    "// ===============================\n",
    "val numericCols = Seq(\n",
    "  \"trip_duration_min\", \"trip_distance\", \"fare_amount\", \n",
    "  \"fare_per_mile\", \"fare_per_min\", \"tip_amount\"\n",
    ")\n",
    "\n",
    "// Summary statistics for numeric features\n",
    "val numericSummary = feDF.select(numericCols.map(col): _*).describe()\n",
    "display(numericSummary)\n",
    "\n",
    "\n"
   ]
  },
  {
   "cell_type": "code",
   "execution_count": 0,
   "metadata": {
    "application/vnd.databricks.v1+cell": {
     "cellMetadata": {
      "byteLimit": 2048000,
      "rowLimit": 10000
     },
     "inputWidgets": {},
     "nuid": "b9566913-dc6f-460f-83bd-9d0a8778b007",
     "showTitle": false,
     "tableResultSettingsMap": {
      "0": {
       "dataGridStateBlob": "{\"version\":1,\"tableState\":{\"columnPinning\":{\"left\":[\"#row_number#\"],\"right\":[]},\"columnSizing\":{},\"columnVisibility\":{}},\"settings\":{\"columns\":{}},\"syncTimestamp\":1757682035928}",
       "filterBlob": null,
       "queryPlanFiltersBlob": null,
       "tableResultIndex": 0
      }
     },
     "title": ""
    }
   },
   "outputs": [
    {
     "output_type": "display_data",
     "data": {
      "text/plain": [
       "Databricks visualization. Run in Databricks to view."
      ]
     },
     "metadata": {
      "application/vnd.databricks.v1.subcommand+json": {
       "baseErrorDetails": null,
       "bindings": {},
       "collapsed": false,
       "command": "%scala\nvar dfsLen = 0;\n{\n  var dfs = Array[Any]()\n  implicit def display(df: Any) {\n    dfs = dfs :+ df\n  }\n\n  // run user code\ndisplay(feDF.select(\"trip_duration_min\"))\n\n  if (dfs.length > 0) {\n    val userGenerateDf = dfs(0).asInstanceOf[org.apache.spark.sql.DataFrame]\n    userGenerateDf.createOrReplaceTempView(\"DatabricksView10027cf\")\n  }\n  dfsLen = dfs.length\n}\nif (dfsLen > 0) {\n  try {\n    display(sql(\"\"\"WITH q AS (select * from DatabricksView10027cf) ,min_max AS (SELECT `fare_amount`,(SELECT MAX(`fare_amount`) FROM q) `target_column_max`,(SELECT MIN(`fare_amount`) FROM q) `target_column_min` FROM q) ,histogram_meta AS (SELECT `fare_amount`,`target_column_min` `min_value`,IF(`target_column_max` = `target_column_min`,`target_column_max` + 1,`target_column_max`) `max_value`,(`target_column_max` - `target_column_min`) / 10 `step` FROM min_max) SELECT IF(ISNULL(`fare_amount`),NULL,LEAST(WIDTH_BUCKET(`fare_amount`,`min_value`,`max_value`,10),10)) `fare_amount_BIN`,FIRST(`min_value` + ((IF(ISNULL(`fare_amount`),NULL,LEAST(WIDTH_BUCKET(`fare_amount`,`min_value`,`max_value`,10),10)) - 1) * `step`)) `fare_amount_BIN_LOWER_BOUND`,FIRST(`step`) `fare_amount_BIN_STEP`,COUNT(`fare_amount`) `COUNT` FROM histogram_meta GROUP BY `fare_amount_BIN`\"\"\"))\n   } finally {\n  // cleaning up the view helps us not pollute the name space\n   spark.sql(\"drop view if exists DatabricksView10027cf\")\n  }\n} else {\n  displayHTML(\"dataframe no longer exists. If you're using dataframe.display(), use display(dataframe) instead.\")\n}\n",
       "commandTitle": "Visualization 1",
       "commandType": "auto",
       "commandVersion": 0,
       "commentThread": [],
       "commentsVisible": false,
       "contentSha256Hex": null,
       "customPlotOptions": {
        "redashChart": [
         {
          "key": "type",
          "value": "CHART"
         },
         {
          "key": "options",
          "value": {
           "alignYAxesAtZero": true,
           "coefficient": 1,
           "columnConfigurationMap": {
            "x": {
             "column": "fare_amount",
             "id": "column_c85f658f1321"
            }
           },
           "dateTimeFormat": "DD/MM/YYYY HH:mm",
           "direction": {
            "type": "counterclockwise"
           },
           "error_y": {
            "type": "data",
            "visible": true
           },
           "globalSeriesType": "histogram",
           "legend": {
            "traceorder": "normal"
           },
           "missingValuesAsZero": true,
           "numBins": 10,
           "numberFormat": "0,0.[00000]",
           "percentFormat": "0[.]00%",
           "series": {
            "error_y": {
             "type": "data",
             "visible": true
            },
            "stacking": null
           },
           "seriesOptions": {},
           "showDataLabels": false,
           "sizemode": "diameter",
           "sortX": true,
           "sortY": true,
           "swappedAxes": false,
           "textFormat": "",
           "useAggregationsUi": true,
           "valuesOptions": {},
           "version": 2,
           "xAxis": {
            "labels": {
             "enabled": true
            },
            "type": "-"
           },
           "yAxis": [
            {
             "type": "-"
            },
            {
             "opposite": true,
             "type": "-"
            }
           ]
          }
         }
        ]
       },
       "datasetPreviewNameToCmdIdMap": {},
       "diffDeletes": [],
       "diffInserts": [],
       "displayType": "redashChart",
       "error": null,
       "errorDetails": null,
       "errorSummary": null,
       "errorTraceType": null,
       "finishTime": 1757682069915,
       "globalVars": {},
       "guid": "",
       "height": "auto",
       "hideCommandCode": false,
       "hideCommandResult": false,
       "iPythonMetadata": null,
       "inputWidgets": {},
       "isLockedInExamMode": false,
       "latestAssumeRoleInfo": null,
       "latestUser": "a user",
       "latestUserId": null,
       "listResultMetadata": [
        [
         "html",
         336
        ]
       ],
       "metadata": {
        "byteLimit": 2048000,
        "rowLimit": 10000
       },
       "nuid": "cc41f742-f531-4201-bff1-f656a7e9ae06",
       "origId": 0,
       "parentHierarchy": [],
       "pivotAggregation": null,
       "pivotColumns": null,
       "position": 4.0,
       "resultDbfsErrorMessage": null,
       "resultDbfsStatus": "INLINED_IN_TREE",
       "results": null,
       "showCommandTitle": false,
       "startTime": 1757682069626,
       "state": "input",
       "streamStates": {},
       "subcommandOptions": {
        "queryPlan": {
         "groups": [
          {
           "column": "fare_amount_BIN",
           "type": "column"
          }
         ],
         "selects": [
          {
           "alias": "fare_amount_BIN",
           "args": [
            {
             "column": "fare_amount",
             "type": "column"
            },
            {
             "number": 10,
             "type": "number"
            }
           ],
           "function": "BIN",
           "type": "function"
          },
          {
           "alias": "fare_amount_BIN_LOWER_BOUND",
           "args": [
            {
             "column": "fare_amount",
             "type": "column"
            },
            {
             "number": 10,
             "type": "number"
            }
           ],
           "function": "BIN_LOWER_BOUND",
           "type": "function"
          },
          {
           "alias": "fare_amount_BIN_STEP",
           "args": [
            {
             "column": "fare_amount",
             "type": "column"
            },
            {
             "number": 10,
             "type": "number"
            }
           ],
           "function": "BIN_STEP",
           "type": "function"
          },
          {
           "alias": "COUNT",
           "args": [
            {
             "column": "fare_amount",
             "type": "column"
            }
           ],
           "function": "COUNT",
           "type": "function"
          }
         ]
        }
       },
       "submitTime": 1757682069566,
       "subtype": "tableResultSubCmd.visualization",
       "tableResultIndex": 0,
       "tableResultSettingsMap": {},
       "useConsistentColors": false,
       "version": "CommandV1",
       "width": "auto",
       "workflows": null,
       "xColumns": null,
       "yColumns": null
      }
     },
     "output_type": "display_data"
    }
   ],
   "source": [
    "display(feDF.select(\"trip_duration_min\"))"
   ]
  },
  {
   "cell_type": "code",
   "execution_count": 0,
   "metadata": {
    "application/vnd.databricks.v1+cell": {
     "cellMetadata": {
      "byteLimit": 2048000,
      "rowLimit": 10000
     },
     "inputWidgets": {},
     "nuid": "5abc6a4e-ae6d-4565-81cb-e187e14ccab3",
     "showTitle": false,
     "tableResultSettingsMap": {},
     "title": ""
    }
   },
   "outputs": [],
   "source": [
    "import org.apache.spark.sql.functions._\n",
    "\n",
    "// Pickup hour counts\n",
    "val hourDF = feDF.groupBy(\"pickup_hour\").count()\n",
    "  .withColumnRenamed(\"count\", \"num_trips\")\n",
    "  .withColumn(\"feature_type\", lit(\"pickup_hour\"))\n",
    "  .withColumn(\"feature_value\", col(\"pickup_hour\").cast(\"string\")) // cast to string\n",
    "\n",
    "// Pickup day of week counts\n",
    "val dayDF = feDF.groupBy(\"pickup_dayofweek\").count()\n",
    "  .withColumnRenamed(\"count\", \"num_trips\")\n",
    "  .withColumn(\"feature_type\", lit(\"pickup_dayofweek\"))\n",
    "  .withColumn(\"feature_value\", col(\"pickup_dayofweek\"))\n",
    "\n",
    "// Pickup month counts\n",
    "val monthDF = feDF.groupBy(\"pickup_month\").count()\n",
    "  .withColumnRenamed(\"count\", \"num_trips\")\n",
    "  .withColumn(\"feature_type\", lit(\"pickup_month\"))\n",
    "  .withColumn(\"feature_value\", col(\"pickup_month\").cast(\"string\"))\n",
    "\n",
    "// Union all into one table\n",
    "val temporalDF = hourDF.select(\"feature_type\", \"feature_value\", \"num_trips\")\n",
    "  .unionByName(dayDF.select(\"feature_type\", \"feature_value\", \"num_trips\"))\n",
    "  .unionByName(monthDF.select(\"feature_type\", \"feature_value\", \"num_trips\"))\n",
    "\n",
    "display(temporalDF)\n"
   ]
  },
  {
   "cell_type": "code",
   "execution_count": 0,
   "metadata": {
    "application/vnd.databricks.v1+cell": {
     "cellMetadata": {},
     "inputWidgets": {},
     "nuid": "abcc237c-f253-42cd-b6d3-c41b31a077e8",
     "showTitle": false,
     "tableResultSettingsMap": {},
     "title": ""
    }
   },
   "outputs": [],
   "source": [
    "// ===============================\n",
    "// Binary Feature Distributions\n",
    "// ===============================\n",
    "val binaryCols = Seq(\"has_tip\", \"is_airport_trip\")\n",
    "binaryCols.foreach { c =>\n",
    "  display(feDF.groupBy(c).count())\n",
    "}"
   ]
  },
  {
   "cell_type": "code",
   "execution_count": 0,
   "metadata": {
    "application/vnd.databricks.v1+cell": {
     "cellMetadata": {},
     "inputWidgets": {},
     "nuid": "4ae277bd-d657-469d-aea5-a09d87395c98",
     "showTitle": false,
     "tableResultSettingsMap": {},
     "title": ""
    }
   },
   "outputs": [],
   "source": [
    "// ===============================\n",
    "// Correlation Matrix (Numeric Features)\n",
    "// ===============================\n",
    "val corrValues = for {\n",
    "  c1 <- numericCols\n",
    "  c2 <- numericCols\n",
    "} yield (c1, c2, feDF.stat.corr(c1, c2))\n",
    "\n",
    "val corrDF = corrValues.toDF(\"feature1\", \"feature2\", \"correlation\")\n",
    "display(corrDF)"
   ]
  },
  {
   "cell_type": "markdown",
   "metadata": {
    "application/vnd.databricks.v1+cell": {
     "cellMetadata": {},
     "inputWidgets": {},
     "nuid": "2bca1cd1-7d7a-41c2-ba14-b265428478b1",
     "showTitle": false,
     "tableResultSettingsMap": {},
     "title": ""
    }
   },
   "source": []
  }
 ],
 "metadata": {
  "application/vnd.databricks.v1+notebook": {
   "computePreferences": null,
   "dashboards": [],
   "environmentMetadata": {
    "base_environment": "",
    "environment_version": "3"
   },
   "inputWidgetPreferences": null,
   "language": "scala",
   "notebookMetadata": {
    "pythonIndentUnit": 4
   },
   "notebookName": "Cleaning_and_FeatureEngineering",
   "widgets": {
    "periods": {
     "currentValue": "202507",
     "nuid": "0533f5b2-83bc-4af7-9152-6eaec67de4a2",
     "typedWidgetInfo": {
      "autoCreated": false,
      "defaultValue": "202507",
      "label": null,
      "name": "periods",
      "options": {
       "widgetDisplayType": "Text",
       "validationRegex": null
      },
      "parameterDataType": "String"
     },
     "widgetInfo": {
      "widgetType": "text",
      "defaultValue": "202507",
      "label": null,
      "name": "periods",
      "options": {
       "widgetType": "text",
       "autoCreated": null,
       "validationRegex": null
      }
     }
    },
    "skip_cleaning": {
     "currentValue": "false",
     "nuid": "ed2e70f0-96e4-4af9-85d9-3de33e6732af",
     "typedWidgetInfo": {
      "autoCreated": false,
      "defaultValue": "false",
      "label": null,
      "name": "skip_cleaning",
      "options": {
       "widgetDisplayType": "Dropdown",
       "choices": [
        "true",
        "false"
       ],
       "fixedDomain": true,
       "multiselect": false
      },
      "parameterDataType": "String"
     },
     "widgetInfo": {
      "widgetType": "dropdown",
      "defaultValue": "false",
      "label": null,
      "name": "skip_cleaning",
      "options": {
       "widgetType": "dropdown",
       "autoCreated": null,
       "choices": [
        "true",
        "false"
       ]
      }
     }
    }
   }
  },
  "language_info": {
   "name": "scala"
  }
 },
 "nbformat": 4,
 "nbformat_minor": 0
}
